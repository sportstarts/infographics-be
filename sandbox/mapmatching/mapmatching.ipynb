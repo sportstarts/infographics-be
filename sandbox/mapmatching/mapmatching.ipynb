{
 "cells": [
  {
   "cell_type": "code",
   "execution_count": 1,
   "id": "ecd2aa6f",
   "metadata": {},
   "outputs": [
    {
     "name": "stdout",
     "output_type": "stream",
     "text": [
      "Requirement already satisfied: leuvenmapmatching in /Users/mkharytonau/Projects/infographics/.venv/lib/python3.9/site-packages (1.1.4)\n",
      "Requirement already satisfied: gpxpy in /Users/mkharytonau/Projects/infographics/.venv/lib/python3.9/site-packages (1.6.2)\n",
      "Requirement already satisfied: shapely in /Users/mkharytonau/Projects/infographics/.venv/lib/python3.9/site-packages (2.0.7)\n",
      "Requirement already satisfied: plotly in /Users/mkharytonau/Projects/infographics/.venv/lib/python3.9/site-packages (6.1.2)\n",
      "Requirement already satisfied: pyproj in /Users/mkharytonau/Projects/infographics/.venv/lib/python3.9/site-packages (3.6.1)\n",
      "Requirement already satisfied: rtree in /Users/mkharytonau/Projects/infographics/.venv/lib/python3.9/site-packages (1.4.0)\n",
      "Requirement already satisfied: numpy in /Users/mkharytonau/Projects/infographics/.venv/lib/python3.9/site-packages (from leuvenmapmatching) (2.0.2)\n",
      "Requirement already satisfied: scipy in /Users/mkharytonau/Projects/infographics/.venv/lib/python3.9/site-packages (from leuvenmapmatching) (1.13.1)\n",
      "Requirement already satisfied: narwhals>=1.15.1 in /Users/mkharytonau/Projects/infographics/.venv/lib/python3.9/site-packages (from plotly) (1.44.0)\n",
      "Requirement already satisfied: packaging in /Users/mkharytonau/Projects/infographics/.venv/lib/python3.9/site-packages (from plotly) (25.0)\n",
      "Requirement already satisfied: certifi in /Users/mkharytonau/Projects/infographics/.venv/lib/python3.9/site-packages (from pyproj) (2025.6.15)\n",
      "\u001b[33mWARNING: You are using pip version 21.2.4; however, version 25.2 is available.\n",
      "You should consider upgrading via the '/Users/mkharytonau/Projects/infographics/.venv/bin/python3 -m pip install --upgrade pip' command.\u001b[0m\n"
     ]
    }
   ],
   "source": [
    "!pip install leuvenmapmatching gpxpy shapely plotly pyproj rtree"
   ]
  },
  {
   "cell_type": "code",
   "execution_count": 2,
   "id": "6b77bfa0",
   "metadata": {},
   "outputs": [],
   "source": [
    "import json\n",
    "import gpxpy\n",
    "import plotly.graph_objects as go\n",
    "from leuvenmapmatching.map.inmem import InMemMap\n",
    "from leuvenmapmatching.matcher.distance import DistanceMatcher\n",
    "from shapely.geometry import LineString, Point\n",
    "import rtree"
   ]
  },
  {
   "cell_type": "code",
   "execution_count": null,
   "id": "da575425",
   "metadata": {},
   "outputs": [],
   "source": [
    "# --- 1. Load reference GPX ---\n",
    "gpx_file_path = \"./testdata/tsna.gpx\"\n",
    "with open(gpx_file_path, 'r') as gpx_file:\n",
    "    gpx = gpxpy.parse(gpx_file)\n",
    "ref_coords = [(pt.latitude, pt.longitude) for trk in gpx.tracks for seg in trk.segments for pt in seg.points]"
   ]
  },
  {
   "cell_type": "code",
   "execution_count": 25,
   "id": "50fc56db",
   "metadata": {},
   "outputs": [
    {
     "name": "stdout",
     "output_type": "stream",
     "text": [
      "Filtered valid GPS points: 39 of 274\n",
      "Bad GPS points: [(None, None), (None, None), (None, None), (None, None), (None, None), (None, None), (None, None), (None, None), (None, None), (None, None), (None, None), (None, None), (None, None), (None, None), (None, None), (None, None), (None, None), (None, None), (None, None), (None, None), (None, None), (None, None), (None, None), (None, None), (None, None), (None, None), (None, None), (None, None), (None, None), (None, None), (None, None), (None, None), (None, None), (None, None), (None, None), (None, None), (None, None), (None, None), (None, None), (None, None), (None, None), (None, None), (None, None), (None, None), (None, None), (None, None), (None, None), (None, None), (None, None), (None, None), (None, None), (None, None), (None, None), (None, None), (None, None), (None, None), (None, None), (None, None), (None, None), (None, None), (None, None), (None, None), (None, None), (None, None), (None, None), (None, None), (None, None), (None, None), (None, None), (None, None), (None, None), (None, None), (None, None), (None, None), (None, None), (None, None), (None, None), (None, None), (None, None), (None, None), (None, None), (None, None), (None, None), (None, None), (None, None), (None, None), (None, None), (None, None), (None, None), (None, None), (None, None), (None, None), (None, None), (None, None), (None, None), (None, None), (None, None), (None, None), (None, None), (None, None), (None, None), (None, None), (None, None), (None, None), (None, None), (None, None), (None, None), (None, None), (None, None), (None, None), (None, None), (None, None), (None, None), (None, None), (None, None), (None, None), (None, None), (None, None), (None, None), (None, None), (None, None), (None, None), (None, None), (None, None), (None, None), (None, None), (None, None), (None, None), (None, None), (None, None), (None, None), (None, None), (None, None), (None, None), (None, None), (None, None), (None, None), (None, None), (None, None), (None, None), (None, None), (None, None), (None, None), (None, None), (None, None), (None, None), (None, None), (None, None), (None, None), (None, None), (None, None), (None, None), (None, None), (None, None), (None, None), (None, None), (None, None), (None, None), (None, None), (None, None), (None, None), (None, None), (None, None), (None, None), (None, None), (None, None), (None, None), (None, None), (None, None), (None, None), (None, None), (None, None), (None, None), (None, None), (None, None), (None, None), (None, None), (None, None), (None, None), (None, None), (None, None), (None, None), (None, None), (None, None), (None, None), (None, None), (None, None), (None, None), (None, None), (None, None), (None, None), (None, None), (None, None), (None, None), (None, None), (None, None), (None, None), (None, None), (None, None), (None, None), (None, None), (None, None), (None, None), (None, None), (None, None), (None, None), (None, None), (None, None), (None, None), (None, None), (None, None), (None, None), (None, None), (None, None), (None, None), (None, None), (None, None), (None, None), (None, None), (None, None), (None, None), (None, None), (None, None), (None, None), (None, None), (None, None), (None, None), (None, None), (None, None), (None, None), (None, None), (None, None), (None, None), (None, None), (None, None)]\n"
     ]
    }
   ],
   "source": [
    "# --- 2. Load GPS trace ---\n",
    "with open(\"./testdata/tsna.json\", \"r\") as file:\n",
    "\tdata = json.load(file)\n",
    "\n",
    "gps_coords = [\n",
    "\t(entry[\"latitude\"], entry[\"longitude\"]) \n",
    "\tfor entry in data\n",
    "]\n",
    "\n",
    "def is_valid_coord(lat, lon):\n",
    "    try:\n",
    "        return (\n",
    "            lat is not None and lon is not None and\n",
    "            isinstance(lat, (int, float)) and isinstance(lon, (int, float))\n",
    "        )\n",
    "    except:\n",
    "        return False\n",
    "\n",
    "bad_gps_coords = [\n",
    "    (lat, lon)\n",
    "    for lat, lon in gps_coords\n",
    "    if not is_valid_coord(lat, lon)\n",
    "]\n",
    "filtered_gps_coords = [\n",
    "    (lat, lon)\n",
    "    for lat, lon in gps_coords\n",
    "    if is_valid_coord(lat, lon)\n",
    "]\n",
    "\n",
    "print(f\"Filtered valid GPS points: {len(filtered_gps_coords)} of {len(gps_coords)}\")\n",
    "print(f\"Bad GPS points: {bad_gps_coords}\")"
   ]
  },
  {
   "cell_type": "code",
   "execution_count": 26,
   "id": "c3b2b9ca",
   "metadata": {},
   "outputs": [],
   "source": [
    "# --- 3. Build InMemMap from GPX ---\n",
    "map_con = InMemMap(\"reference_map\", use_rtree=True, index_edges=True)\n",
    "for i, (lat, lon) in enumerate(ref_coords):\n",
    "    map_con.add_node(i, (lat, lon))\n",
    "    if i > 0:\n",
    "        map_con.add_edge(i-1, i)"
   ]
  },
  {
   "cell_type": "code",
   "execution_count": 27,
   "id": "c016fc90",
   "metadata": {},
   "outputs": [],
   "source": [
    "# --- 4. Run LeuvenMapMatching ---\n",
    "matcher = DistanceMatcher(\n",
    "    map_con,\n",
    "    max_dist=500,\n",
    "    obs_noise=4,\n",
    "    obs_noise_ne=10,\n",
    "    non_emitting_states=False,\n",
    "    only_edges=True\n",
    ")\n",
    "\n",
    "# Input as (lat, lon) tuples for matcher\n",
    "gps_input = [(lat, lon) for lat, lon in filtered_gps_coords]\n",
    "matched_states, _ = matcher.match(gps_input)"
   ]
  },
  {
   "cell_type": "code",
   "execution_count": 28,
   "id": "c11ca490",
   "metadata": {},
   "outputs": [],
   "source": [
    "# --- 5. Extract matched node coordinates ---\n",
    "matched_node_coords = [\n",
    "    map_con.node_coordinates(edge[0])\n",
    "    for edge in matched_states\n",
    "] + [map_con.node_coordinates(matched_states[-1][1])] # append last target"
   ]
  },
  {
   "cell_type": "code",
   "execution_count": 29,
   "id": "c09fa09d",
   "metadata": {},
   "outputs": [],
   "source": [
    "# --- 6. Snap GPS points to matched edges, calculate distances ---\n",
    "\n",
    "from shapely.geometry import LineString, Point\n",
    "from pyproj import Transformer\n",
    "from functools import lru_cache\n",
    "\n",
    "# Cache EPSG code determination\n",
    "@lru_cache(maxsize=1000)\n",
    "def get_epsg_code(lat: float, lon: float) -> int:\n",
    "    \"\"\"\n",
    "    Returns the UTM EPSG code for a given WGS84 latitude and longitude.\n",
    "    \"\"\"\n",
    "    zone_number = int((lon + 180) / 6) + 1\n",
    "    is_northern = lat >= 0\n",
    "    return 32600 + zone_number if is_northern else 32700 + zone_number\n",
    "\n",
    "# Cache the transformers per EPSG zone\n",
    "@lru_cache(maxsize=10)\n",
    "def get_transformers_for_epsg(epsg_code: int):\n",
    "    \"\"\"\n",
    "    Returns transformers to/from WGS84 <-> UTM for a given EPSG zone.\n",
    "    \"\"\"\n",
    "    to_utm = Transformer.from_crs(\"EPSG:4326\", f\"EPSG:{epsg_code}\", always_xy=True)\n",
    "    to_wgs = Transformer.from_crs(f\"EPSG:{epsg_code}\", \"EPSG:4326\", always_xy=True)\n",
    "    return to_utm, to_wgs\n",
    "\n",
    "def get_transformers_for_point(lat: float, lon: float):\n",
    "    \"\"\"\n",
    "    Returns (to_utm, to_wgs) transformers for the UTM zone corresponding to the given lat/lon.\n",
    "    \"\"\"\n",
    "    epsg = get_epsg_code(lat, lon)\n",
    "    return get_transformers_for_epsg(epsg)\n",
    "\n",
    "# --- Step 1: Precompute cumulative distance along reference route in UTM ---\n",
    "reference_utm_coords = [get_transformers_for_point(lat, lon)[0].transform(lon, lat) for lat, lon in ref_coords]\n",
    "\n",
    "cumulative_distances = {0: 0.0}\n",
    "for i in range(1, len(ref_coords)):\n",
    "    prev = reference_utm_coords[i - 1]\n",
    "    curr = reference_utm_coords[i]\n",
    "    dist = LineString([prev, curr]).length\n",
    "    cumulative_distances[i] = cumulative_distances[i - 1] + dist\n",
    "\n",
    "# --- Step 2: Project GPS points onto matched edges and calculate distances ---\n",
    "matched_coords = []\n",
    "monotonic_distances = []\n",
    "max_distance = 0.0\n",
    "\n",
    "for i, (gps_lat, gps_lon) in enumerate(gps_input):\n",
    "    state = matched_states[i]\n",
    "\n",
    "    node1, node2 = state\n",
    "    coord1 = map_con.node_coordinates(node1)\n",
    "    coord2 = map_con.node_coordinates(node2)\n",
    "\n",
    "    # Convert all points to UTM\n",
    "    # use 1st point of reference edge to find correct UTM zone\n",
    "    (transformer_to_utm, transformer_to_wgs) = get_transformers_for_point(coord1[0], coord1[1])\n",
    "    pt1_utm = transformer_to_utm.transform(coord1[1], coord1[0])\n",
    "    pt2_utm = transformer_to_utm.transform(coord2[1], coord2[0])\n",
    "    gps_utm = transformer_to_utm.transform(gps_lon, gps_lat)\n",
    "\n",
    "    # Project GPS point to reference edge\n",
    "    edge_line = LineString([pt1_utm, pt2_utm])\n",
    "    point = Point(gps_utm)\n",
    "    projection_on_edge = edge_line.project(point)\n",
    "    projected_point = edge_line.interpolate(projection_on_edge)\n",
    "\n",
    "    # Convert projected point back to WGS84\n",
    "    proj_lon, proj_lat = transformer_to_wgs.transform(projected_point.x, projected_point.y)\n",
    "    matched_coords.append((proj_lat, proj_lon))  # (lat, lon)\n",
    "\n",
    "    # Compute cumulative distance on reference\n",
    "    base_distance = cumulative_distances.get(node1, 0.0)\n",
    "    total_distance = base_distance + projection_on_edge\n",
    "\n",
    "    # Enforce monotonicity\n",
    "    max_distance = max(max_distance, total_distance)\n",
    "    monotonic_distances.append(max_distance)"
   ]
  },
  {
   "cell_type": "code",
   "execution_count": 30,
   "id": "ca06ddf0",
   "metadata": {},
   "outputs": [
    {
     "name": "stdout",
     "output_type": "stream",
     "text": [
      "Reference GPS points: 28\n",
      "Original GPS points: 39\n",
      "Matched states: 39\n",
      "Matched points: 39\n",
      "Distances: 39\n"
     ]
    }
   ],
   "source": [
    "print(f\"Reference GPS points: {len(ref_coords)}\")\n",
    "print(f\"Original GPS points: {len(gps_input)}\")\n",
    "print(f\"Matched states: {len(matched_states)}\")\n",
    "print(f\"Matched points: {len(matched_coords)}\")\n",
    "print(f\"Distances: {len(monotonic_distances)}\")"
   ]
  },
  {
   "cell_type": "markdown",
   "id": "3ed81eda",
   "metadata": {},
   "source": [
    "## Visualize"
   ]
  },
  {
   "cell_type": "code",
   "execution_count": 31,
   "id": "9ac3afde",
   "metadata": {},
   "outputs": [
    {
     "data": {
      "application/vnd.plotly.v1+json": {
       "config": {
        "plotlyServerURL": "https://plot.ly"
       },
       "data": [
        {
         "lat": [
          53.96314641460776,
          53.96314591169357,
          null,
          53.963082544505596,
          null,
          53.96299973130226,
          null,
          null,
          53.96291951648891,
          null,
          null,
          null,
          53.96279001608491,
          null,
          null,
          null,
          null,
          null,
          null,
          null,
          53.962452141568065,
          null,
          null,
          null,
          null,
          null,
          null,
          53.96213689818978,
          null,
          null,
          null,
          null,
          null,
          null,
          null,
          53.961739763617516,
          null,
          null,
          null,
          null,
          null,
          null,
          null,
          null,
          null,
          53.961330223828554,
          null,
          null,
          null,
          null,
          null,
          null,
          53.960954044014215,
          null,
          null,
          null,
          null,
          null,
          null,
          null,
          null,
          53.96052086725831,
          null,
          53.96043771877885,
          null,
          null,
          null,
          null,
          null,
          null,
          null,
          null,
          null,
          null,
          53.96032640710473,
          null,
          null,
          null,
          null,
          null,
          null,
          null,
          null,
          53.96032053977251,
          null,
          null,
          null,
          null,
          null,
          null,
          null,
          null,
          53.96037669852376,
          null,
          null,
          null,
          null,
          null,
          null,
          null,
          null,
          53.96039564162493,
          null,
          null,
          null,
          null,
          null,
          null,
          null,
          null,
          null,
          53.96045875735581,
          null,
          null,
          null,
          null,
          null,
          null,
          null,
          null,
          53.96084197796881,
          null,
          null,
          null,
          null,
          null,
          null,
          null,
          null,
          53.96120013669133,
          null,
          null,
          null,
          null,
          null,
          null,
          null,
          null,
          53.96162962540984,
          null,
          null,
          53.961709924042225,
          53.96171855740249,
          null,
          null,
          null,
          null,
          null,
          null,
          null,
          null,
          null,
          53.962115021422505,
          null,
          null,
          null,
          null,
          null,
          53.9623433444649,
          null,
          null,
          null,
          null,
          null,
          null,
          null,
          null,
          53.96275011822581,
          null,
          null,
          null,
          null,
          null,
          null,
          null,
          null,
          53.96309939213097,
          null,
          null,
          null,
          null,
          null,
          null,
          null,
          null,
          53.96352251060307,
          null,
          null,
          null,
          null,
          null,
          null,
          null,
          53.963954178616405,
          null,
          null,
          null,
          null,
          null,
          null,
          null,
          null,
          null,
          null,
          null,
          53.96387907676399,
          null,
          null,
          null,
          null,
          null,
          null,
          null,
          53.96385711617768,
          null,
          null,
          null,
          null,
          null,
          null,
          null,
          null,
          null,
          null,
          53.96372585557401,
          null,
          null,
          null,
          null,
          null,
          null,
          null,
          53.96356442011893,
          null,
          null,
          null,
          null,
          null,
          null,
          null,
          53.96346635185182,
          null,
          null,
          null,
          null,
          null,
          null,
          null,
          null,
          53.96330106072128,
          null,
          null,
          null,
          null,
          null,
          null,
          null,
          null,
          null,
          53.963180277496576,
          null,
          null,
          null,
          null,
          null,
          null,
          null,
          null,
          null,
          53.96310509182513,
          null,
          null,
          53.96310383453965,
          53.963112719357014
         ],
         "lon": [
          27.591681042686105,
          27.591680707409978,
          null,
          27.591735189780593,
          null,
          27.591746924445033,
          null,
          null,
          27.591868629679084,
          null,
          null,
          null,
          27.591962506994605,
          null,
          null,
          null,
          null,
          null,
          null,
          null,
          27.592150261625648,
          null,
          null,
          null,
          null,
          null,
          null,
          27.592419404536486,
          null,
          null,
          null,
          null,
          null,
          null,
          null,
          27.59265761822462,
          null,
          null,
          null,
          null,
          null,
          null,
          null,
          null,
          null,
          27.592643620446324,
          null,
          null,
          null,
          null,
          null,
          null,
          27.59259550832212,
          null,
          null,
          null,
          null,
          null,
          null,
          null,
          null,
          27.592434659600258,
          null,
          27.592256711795926,
          null,
          null,
          null,
          null,
          null,
          null,
          null,
          null,
          null,
          null,
          27.591518349945545,
          null,
          null,
          null,
          null,
          null,
          null,
          null,
          null,
          27.590770097449422,
          null,
          null,
          null,
          null,
          null,
          null,
          null,
          null,
          27.590003991499543,
          null,
          null,
          null,
          null,
          null,
          null,
          null,
          null,
          27.58925825357437,
          null,
          null,
          null,
          null,
          null,
          null,
          null,
          null,
          null,
          27.588554425165057,
          null,
          null,
          null,
          null,
          null,
          null,
          null,
          null,
          27.588082356378436,
          null,
          null,
          null,
          null,
          null,
          null,
          null,
          null,
          27.58760266005993,
          null,
          null,
          null,
          null,
          null,
          null,
          null,
          null,
          27.587227066978812,
          null,
          null,
          27.587096728384495,
          27.587101003155112,
          null,
          null,
          null,
          null,
          null,
          null,
          null,
          null,
          null,
          27.586693642660975,
          null,
          null,
          null,
          null,
          null,
          27.58630924858153,
          null,
          null,
          null,
          null,
          null,
          null,
          null,
          null,
          27.585926614701748,
          null,
          null,
          null,
          null,
          null,
          null,
          null,
          null,
          27.58566183038056,
          null,
          null,
          null,
          null,
          null,
          null,
          null,
          null,
          27.585351364687085,
          null,
          null,
          null,
          null,
          null,
          null,
          null,
          27.585452366620302,
          null,
          null,
          null,
          null,
          null,
          null,
          null,
          null,
          null,
          null,
          null,
          27.586291395127773,
          null,
          null,
          null,
          null,
          null,
          null,
          null,
          27.587115420028567,
          null,
          null,
          null,
          null,
          null,
          null,
          null,
          null,
          null,
          null,
          27.58781572803855,
          null,
          null,
          null,
          null,
          null,
          null,
          null,
          27.58868895471096,
          null,
          null,
          null,
          null,
          null,
          null,
          null,
          27.58931684307754,
          null,
          null,
          null,
          null,
          null,
          null,
          null,
          null,
          27.58998286910355,
          null,
          null,
          null,
          null,
          null,
          null,
          null,
          null,
          null,
          27.590714693069458,
          null,
          null,
          null,
          null,
          null,
          null,
          null,
          null,
          null,
          27.591499239206314,
          null,
          null,
          27.591716079041362,
          27.59171884506941
         ],
         "marker": {
          "color": "blue",
          "size": 6
         },
         "mode": "markers+lines",
         "name": "Original GPS",
         "type": "scattermap"
        },
        {
         "lat": [
          53.963193,
          53.962852,
          53.962398,
          53.961868,
          53.961035,
          53.960466,
          53.96029,
          53.960252,
          53.960391,
          53.960769,
          53.961476,
          53.962423,
          53.963042,
          53.96366,
          53.963862,
          53.963787,
          53.963484,
          53.963256,
          53.963206,
          53.963193,
          53.963228,
          53.963299,
          53.963447,
          53.963583,
          53.963734,
          53.964323,
          53.965194,
          53.966166
         ],
         "line": {
          "color": "green",
          "width": 2
         },
         "lon": [
          27.59168,
          27.592109,
          27.592345,
          27.592603,
          27.592474,
          27.592367,
          27.592002,
          27.591358,
          27.5902,
          27.588912,
          27.587475,
          27.586337,
          27.585758,
          27.585758,
          27.586123,
          27.587389,
          27.588891,
          27.590092,
          27.590908,
          27.591466,
          27.591624,
          27.591836,
          27.592072,
          27.592404,
          27.592716,
          27.593215,
          27.593365,
          27.592828
         ],
         "marker": {
          "color": "green",
          "size": 5
         },
         "mode": "lines+markers",
         "name": "Reference Route",
         "type": "scattermap"
        },
        {
         "lat": [
          53.963193,
          53.963193,
          53.963193,
          53.963193,
          53.963193,
          53.962852,
          53.962852,
          53.962398,
          53.961868,
          53.961868,
          53.961035,
          53.961035,
          53.960466,
          53.96029,
          53.960252,
          53.960391,
          53.960391,
          53.960391,
          53.960769,
          53.960769,
          53.961476,
          53.961476,
          53.961476,
          53.961476,
          53.961476,
          53.962423,
          53.963042,
          53.963042,
          53.96366,
          53.963862,
          53.963862,
          53.963787,
          53.963787,
          53.963484,
          53.963484,
          53.963256,
          53.963206,
          53.963193,
          53.963193,
          53.963228
         ],
         "lon": [
          27.59168,
          27.59168,
          27.59168,
          27.59168,
          27.59168,
          27.592109,
          27.592109,
          27.592345,
          27.592603,
          27.592603,
          27.592474,
          27.592474,
          27.592367,
          27.592002,
          27.591358,
          27.5902,
          27.5902,
          27.5902,
          27.588912,
          27.588912,
          27.587475,
          27.587475,
          27.587475,
          27.587475,
          27.587475,
          27.586337,
          27.585758,
          27.585758,
          27.585758,
          27.586123,
          27.586123,
          27.587389,
          27.587389,
          27.588891,
          27.588891,
          27.590092,
          27.590908,
          27.591466,
          27.591466,
          27.591624
         ],
         "marker": {
          "color": "orange",
          "size": 6,
          "symbol": "circle"
         },
         "mode": "markers+lines",
         "name": "Matched Nodes",
         "type": "scattermap"
        },
        {
         "lat": [
          53.96316265758497,
          53.96316242780214,
          53.96310618197548,
          53.963049455106976,
          53.96296337402078,
          53.962819545478084,
          53.96247966844954,
          53.962145139692176,
          53.961743741303664,
          53.9613368412019,
          53.96096287720482,
          53.96052457165257,
          53.96042279672372,
          53.96026210576393,
          53.96032248935044,
          53.96043426721917,
          53.960613442853855,
          53.960769,
          53.961039616964705,
          53.96132575604171,
          53.961647242124386,
          53.961736956235036,
          53.96174151439443,
          53.96211876550361,
          53.96237769309894,
          53.96277615597721,
          53.96309939217096,
          53.96352251128683,
          53.963707842107645,
          53.96385229505394,
          53.96380374722811,
          53.96370353083001,
          53.963528915716175,
          53.96340909342964,
          53.963279004394984,
          53.96321744396212,
          53.963193,
          53.963227999999994,
          53.963227999999994
         ],
         "lon": [
          27.5917181730773,
          27.59171846216138,
          27.591789223522586,
          27.591860589823742,
          27.591968885277534,
          27.592125870809994,
          27.592302547191583,
          27.59246809133559,
          27.592583756719726,
          27.59252074310221,
          27.592460437199303,
          27.592378014214372,
          27.592277401796355,
          27.59152926027742,
          27.5907707703609,
          27.590052574519838,
          27.589442055084806,
          27.588912,
          27.588361972272264,
          27.587780382614746,
          27.587269224904738,
          27.58716141805612,
          27.58715594063253,
          27.586702602443655,
          27.586391446297988,
          27.586006667505565,
          27.58575799999714,
          27.58575799999412,
          27.58584444687018,
          27.58628683242445,
          27.58710632670089,
          27.587802776118895,
          27.58866835574205,
          27.589285582059556,
          27.589970826800688,
          27.590721242688243,
          27.591466,
          27.591624,
          27.591624
         ],
         "marker": {
          "color": "red",
          "size": 4,
          "symbol": "circle"
         },
         "mode": "markers+text",
         "name": "Matched Points on Route",
         "text": [
          "4 m",
          "4 m",
          "12 m",
          "19 m",
          "31 m",
          "51 m",
          "90 m",
          "129 m",
          "175 m",
          "220 m",
          "262 m",
          "311 m",
          "325 m",
          "380 m",
          "430 m",
          "479 m",
          "524 m",
          "563 m",
          "610 m",
          "660 m",
          "709 m",
          "721 m",
          "722 m",
          "773 m",
          "809 m",
          "860 m",
          "900 m",
          "947 m",
          "970 m",
          "1006 m",
          "1060 m",
          "1107 m",
          "1167 m",
          "1210 m",
          "1257 m",
          "1307 m",
          "1356 m",
          "1367 m",
          "1367 m"
         ],
         "textposition": "top right",
         "type": "scattermap"
        },
        {
         "lat": [
          53.96314641460776,
          53.96316265758497
         ],
         "line": {
          "color": "grey",
          "width": 1
         },
         "lon": [
          27.591681042686105,
          27.5917181730773
         ],
         "mode": "lines",
         "showlegend": false,
         "type": "scattermap"
        },
        {
         "lat": [
          53.96314591169357,
          53.96316242780214
         ],
         "line": {
          "color": "grey",
          "width": 1
         },
         "lon": [
          27.591680707409978,
          27.59171846216138
         ],
         "mode": "lines",
         "showlegend": false,
         "type": "scattermap"
        },
        {
         "lat": [
          53.963082544505596,
          53.96310618197548
         ],
         "line": {
          "color": "grey",
          "width": 1
         },
         "lon": [
          27.591735189780593,
          27.591789223522586
         ],
         "mode": "lines",
         "showlegend": false,
         "type": "scattermap"
        },
        {
         "lat": [
          53.96299973130226,
          53.963049455106976
         ],
         "line": {
          "color": "grey",
          "width": 1
         },
         "lon": [
          27.591746924445033,
          27.591860589823742
         ],
         "mode": "lines",
         "showlegend": false,
         "type": "scattermap"
        },
        {
         "lat": [
          53.96291951648891,
          53.96296337402078
         ],
         "line": {
          "color": "grey",
          "width": 1
         },
         "lon": [
          27.591868629679084,
          27.591968885277534
         ],
         "mode": "lines",
         "showlegend": false,
         "type": "scattermap"
        },
        {
         "lat": [
          53.96279001608491,
          53.962819545478084
         ],
         "line": {
          "color": "grey",
          "width": 1
         },
         "lon": [
          27.591962506994605,
          27.592125870809994
         ],
         "mode": "lines",
         "showlegend": false,
         "type": "scattermap"
        },
        {
         "lat": [
          53.962452141568065,
          53.96247966844954
         ],
         "line": {
          "color": "grey",
          "width": 1
         },
         "lon": [
          27.592150261625648,
          27.592302547191583
         ],
         "mode": "lines",
         "showlegend": false,
         "type": "scattermap"
        },
        {
         "lat": [
          53.96213689818978,
          53.962145139692176
         ],
         "line": {
          "color": "grey",
          "width": 1
         },
         "lon": [
          27.592419404536486,
          27.59246809133559
         ],
         "mode": "lines",
         "showlegend": false,
         "type": "scattermap"
        },
        {
         "lat": [
          53.961739763617516,
          53.961743741303664
         ],
         "line": {
          "color": "grey",
          "width": 1
         },
         "lon": [
          27.59265761822462,
          27.592583756719726
         ],
         "mode": "lines",
         "showlegend": false,
         "type": "scattermap"
        },
        {
         "lat": [
          53.961330223828554,
          53.9613368412019
         ],
         "line": {
          "color": "grey",
          "width": 1
         },
         "lon": [
          27.592643620446324,
          27.59252074310221
         ],
         "mode": "lines",
         "showlegend": false,
         "type": "scattermap"
        },
        {
         "lat": [
          53.960954044014215,
          53.96096287720482
         ],
         "line": {
          "color": "grey",
          "width": 1
         },
         "lon": [
          27.59259550832212,
          27.592460437199303
         ],
         "mode": "lines",
         "showlegend": false,
         "type": "scattermap"
        },
        {
         "lat": [
          53.96052086725831,
          53.96052457165257
         ],
         "line": {
          "color": "grey",
          "width": 1
         },
         "lon": [
          27.592434659600258,
          27.592378014214372
         ],
         "mode": "lines",
         "showlegend": false,
         "type": "scattermap"
        },
        {
         "lat": [
          53.96043771877885,
          53.96042279672372
         ],
         "line": {
          "color": "grey",
          "width": 1
         },
         "lon": [
          27.592256711795926,
          27.592277401796355
         ],
         "mode": "lines",
         "showlegend": false,
         "type": "scattermap"
        },
        {
         "lat": [
          53.96032640710473,
          53.96026210576393
         ],
         "line": {
          "color": "grey",
          "width": 1
         },
         "lon": [
          27.591518349945545,
          27.59152926027742
         ],
         "mode": "lines",
         "showlegend": false,
         "type": "scattermap"
        },
        {
         "lat": [
          53.96032053977251,
          53.96032248935044
         ],
         "line": {
          "color": "grey",
          "width": 1
         },
         "lon": [
          27.590770097449422,
          27.5907707703609
         ],
         "mode": "lines",
         "showlegend": false,
         "type": "scattermap"
        },
        {
         "lat": [
          53.96037669852376,
          53.96043426721917
         ],
         "line": {
          "color": "grey",
          "width": 1
         },
         "lon": [
          27.590003991499543,
          27.590052574519838
         ],
         "mode": "lines",
         "showlegend": false,
         "type": "scattermap"
        },
        {
         "lat": [
          53.96039564162493,
          53.960613442853855
         ],
         "line": {
          "color": "grey",
          "width": 1
         },
         "lon": [
          27.58925825357437,
          27.589442055084806
         ],
         "mode": "lines",
         "showlegend": false,
         "type": "scattermap"
        },
        {
         "lat": [
          53.96045875735581,
          53.960769
         ],
         "line": {
          "color": "grey",
          "width": 1
         },
         "lon": [
          27.588554425165057,
          27.588912
         ],
         "mode": "lines",
         "showlegend": false,
         "type": "scattermap"
        },
        {
         "lat": [
          53.96084197796881,
          53.961039616964705
         ],
         "line": {
          "color": "grey",
          "width": 1
         },
         "lon": [
          27.588082356378436,
          27.588361972272264
         ],
         "mode": "lines",
         "showlegend": false,
         "type": "scattermap"
        },
        {
         "lat": [
          53.96120013669133,
          53.96132575604171
         ],
         "line": {
          "color": "grey",
          "width": 1
         },
         "lon": [
          27.58760266005993,
          27.587780382614746
         ],
         "mode": "lines",
         "showlegend": false,
         "type": "scattermap"
        },
        {
         "lat": [
          53.96162962540984,
          53.961647242124386
         ],
         "line": {
          "color": "grey",
          "width": 1
         },
         "lon": [
          27.587227066978812,
          27.587269224904738
         ],
         "mode": "lines",
         "showlegend": false,
         "type": "scattermap"
        },
        {
         "lat": [
          53.961709924042225,
          53.961736956235036
         ],
         "line": {
          "color": "grey",
          "width": 1
         },
         "lon": [
          27.587096728384495,
          27.58716141805612
         ],
         "mode": "lines",
         "showlegend": false,
         "type": "scattermap"
        },
        {
         "lat": [
          53.96171855740249,
          53.96174151439443
         ],
         "line": {
          "color": "grey",
          "width": 1
         },
         "lon": [
          27.587101003155112,
          27.58715594063253
         ],
         "mode": "lines",
         "showlegend": false,
         "type": "scattermap"
        },
        {
         "lat": [
          53.962115021422505,
          53.96211876550361
         ],
         "line": {
          "color": "grey",
          "width": 1
         },
         "lon": [
          27.586693642660975,
          27.586702602443655
         ],
         "mode": "lines",
         "showlegend": false,
         "type": "scattermap"
        },
        {
         "lat": [
          53.9623433444649,
          53.96237769309894
         ],
         "line": {
          "color": "grey",
          "width": 1
         },
         "lon": [
          27.58630924858153,
          27.586391446297988
         ],
         "mode": "lines",
         "showlegend": false,
         "type": "scattermap"
        },
        {
         "lat": [
          53.96275011822581,
          53.96277615597721
         ],
         "line": {
          "color": "grey",
          "width": 1
         },
         "lon": [
          27.585926614701748,
          27.586006667505565
         ],
         "mode": "lines",
         "showlegend": false,
         "type": "scattermap"
        },
        {
         "lat": [
          53.96309939213097,
          53.96309939217096
         ],
         "line": {
          "color": "grey",
          "width": 1
         },
         "lon": [
          27.58566183038056,
          27.58575799999714
         ],
         "mode": "lines",
         "showlegend": false,
         "type": "scattermap"
        },
        {
         "lat": [
          53.96352251060307,
          53.96352251128683
         ],
         "line": {
          "color": "grey",
          "width": 1
         },
         "lon": [
          27.585351364687085,
          27.58575799999412
         ],
         "mode": "lines",
         "showlegend": false,
         "type": "scattermap"
        },
        {
         "lat": [
          53.963954178616405,
          53.963707842107645
         ],
         "line": {
          "color": "grey",
          "width": 1
         },
         "lon": [
          27.585452366620302,
          27.58584444687018
         ],
         "mode": "lines",
         "showlegend": false,
         "type": "scattermap"
        },
        {
         "lat": [
          53.96387907676399,
          53.96385229505394
         ],
         "line": {
          "color": "grey",
          "width": 1
         },
         "lon": [
          27.586291395127773,
          27.58628683242445
         ],
         "mode": "lines",
         "showlegend": false,
         "type": "scattermap"
        },
        {
         "lat": [
          53.96385711617768,
          53.96380374722811
         ],
         "line": {
          "color": "grey",
          "width": 1
         },
         "lon": [
          27.587115420028567,
          27.58710632670089
         ],
         "mode": "lines",
         "showlegend": false,
         "type": "scattermap"
        },
        {
         "lat": [
          53.96372585557401,
          53.96370353083001
         ],
         "line": {
          "color": "grey",
          "width": 1
         },
         "lon": [
          27.58781572803855,
          27.587802776118895
         ],
         "mode": "lines",
         "showlegend": false,
         "type": "scattermap"
        },
        {
         "lat": [
          53.96356442011893,
          53.963528915716175
         ],
         "line": {
          "color": "grey",
          "width": 1
         },
         "lon": [
          27.58868895471096,
          27.58866835574205
         ],
         "mode": "lines",
         "showlegend": false,
         "type": "scattermap"
        },
        {
         "lat": [
          53.96346635185182,
          53.96340909342964
         ],
         "line": {
          "color": "grey",
          "width": 1
         },
         "lon": [
          27.58931684307754,
          27.589285582059556
         ],
         "mode": "lines",
         "showlegend": false,
         "type": "scattermap"
        },
        {
         "lat": [
          53.96330106072128,
          53.963279004394984
         ],
         "line": {
          "color": "grey",
          "width": 1
         },
         "lon": [
          27.58998286910355,
          27.589970826800688
         ],
         "mode": "lines",
         "showlegend": false,
         "type": "scattermap"
        },
        {
         "lat": [
          53.963180277496576,
          53.96321744396212
         ],
         "line": {
          "color": "grey",
          "width": 1
         },
         "lon": [
          27.590714693069458,
          27.590721242688243
         ],
         "mode": "lines",
         "showlegend": false,
         "type": "scattermap"
        },
        {
         "lat": [
          53.96310509182513,
          53.963193
         ],
         "line": {
          "color": "grey",
          "width": 1
         },
         "lon": [
          27.591499239206314,
          27.591466
         ],
         "mode": "lines",
         "showlegend": false,
         "type": "scattermap"
        },
        {
         "lat": [
          53.96310383453965,
          53.963227999999994
         ],
         "line": {
          "color": "grey",
          "width": 1
         },
         "lon": [
          27.591716079041362,
          27.591624
         ],
         "mode": "lines",
         "showlegend": false,
         "type": "scattermap"
        },
        {
         "lat": [
          53.963112719357014,
          53.963227999999994
         ],
         "line": {
          "color": "grey",
          "width": 1
         },
         "lon": [
          27.59171884506941,
          27.591624
         ],
         "mode": "lines",
         "showlegend": false,
         "type": "scattermap"
        }
       ],
       "layout": {
        "map": {
         "center": {
          "lat": 53.96314641460776,
          "lon": 27.591681042686105
         },
         "style": "open-street-map",
         "zoom": 15
        },
        "margin": {
         "b": 0,
         "l": 0,
         "r": 0,
         "t": 30
        },
        "template": {
         "data": {
          "bar": [
           {
            "error_x": {
             "color": "#2a3f5f"
            },
            "error_y": {
             "color": "#2a3f5f"
            },
            "marker": {
             "line": {
              "color": "#E5ECF6",
              "width": 0.5
             },
             "pattern": {
              "fillmode": "overlay",
              "size": 10,
              "solidity": 0.2
             }
            },
            "type": "bar"
           }
          ],
          "barpolar": [
           {
            "marker": {
             "line": {
              "color": "#E5ECF6",
              "width": 0.5
             },
             "pattern": {
              "fillmode": "overlay",
              "size": 10,
              "solidity": 0.2
             }
            },
            "type": "barpolar"
           }
          ],
          "carpet": [
           {
            "aaxis": {
             "endlinecolor": "#2a3f5f",
             "gridcolor": "white",
             "linecolor": "white",
             "minorgridcolor": "white",
             "startlinecolor": "#2a3f5f"
            },
            "baxis": {
             "endlinecolor": "#2a3f5f",
             "gridcolor": "white",
             "linecolor": "white",
             "minorgridcolor": "white",
             "startlinecolor": "#2a3f5f"
            },
            "type": "carpet"
           }
          ],
          "choropleth": [
           {
            "colorbar": {
             "outlinewidth": 0,
             "ticks": ""
            },
            "type": "choropleth"
           }
          ],
          "contour": [
           {
            "colorbar": {
             "outlinewidth": 0,
             "ticks": ""
            },
            "colorscale": [
             [
              0,
              "#0d0887"
             ],
             [
              0.1111111111111111,
              "#46039f"
             ],
             [
              0.2222222222222222,
              "#7201a8"
             ],
             [
              0.3333333333333333,
              "#9c179e"
             ],
             [
              0.4444444444444444,
              "#bd3786"
             ],
             [
              0.5555555555555556,
              "#d8576b"
             ],
             [
              0.6666666666666666,
              "#ed7953"
             ],
             [
              0.7777777777777778,
              "#fb9f3a"
             ],
             [
              0.8888888888888888,
              "#fdca26"
             ],
             [
              1,
              "#f0f921"
             ]
            ],
            "type": "contour"
           }
          ],
          "contourcarpet": [
           {
            "colorbar": {
             "outlinewidth": 0,
             "ticks": ""
            },
            "type": "contourcarpet"
           }
          ],
          "heatmap": [
           {
            "colorbar": {
             "outlinewidth": 0,
             "ticks": ""
            },
            "colorscale": [
             [
              0,
              "#0d0887"
             ],
             [
              0.1111111111111111,
              "#46039f"
             ],
             [
              0.2222222222222222,
              "#7201a8"
             ],
             [
              0.3333333333333333,
              "#9c179e"
             ],
             [
              0.4444444444444444,
              "#bd3786"
             ],
             [
              0.5555555555555556,
              "#d8576b"
             ],
             [
              0.6666666666666666,
              "#ed7953"
             ],
             [
              0.7777777777777778,
              "#fb9f3a"
             ],
             [
              0.8888888888888888,
              "#fdca26"
             ],
             [
              1,
              "#f0f921"
             ]
            ],
            "type": "heatmap"
           }
          ],
          "histogram": [
           {
            "marker": {
             "pattern": {
              "fillmode": "overlay",
              "size": 10,
              "solidity": 0.2
             }
            },
            "type": "histogram"
           }
          ],
          "histogram2d": [
           {
            "colorbar": {
             "outlinewidth": 0,
             "ticks": ""
            },
            "colorscale": [
             [
              0,
              "#0d0887"
             ],
             [
              0.1111111111111111,
              "#46039f"
             ],
             [
              0.2222222222222222,
              "#7201a8"
             ],
             [
              0.3333333333333333,
              "#9c179e"
             ],
             [
              0.4444444444444444,
              "#bd3786"
             ],
             [
              0.5555555555555556,
              "#d8576b"
             ],
             [
              0.6666666666666666,
              "#ed7953"
             ],
             [
              0.7777777777777778,
              "#fb9f3a"
             ],
             [
              0.8888888888888888,
              "#fdca26"
             ],
             [
              1,
              "#f0f921"
             ]
            ],
            "type": "histogram2d"
           }
          ],
          "histogram2dcontour": [
           {
            "colorbar": {
             "outlinewidth": 0,
             "ticks": ""
            },
            "colorscale": [
             [
              0,
              "#0d0887"
             ],
             [
              0.1111111111111111,
              "#46039f"
             ],
             [
              0.2222222222222222,
              "#7201a8"
             ],
             [
              0.3333333333333333,
              "#9c179e"
             ],
             [
              0.4444444444444444,
              "#bd3786"
             ],
             [
              0.5555555555555556,
              "#d8576b"
             ],
             [
              0.6666666666666666,
              "#ed7953"
             ],
             [
              0.7777777777777778,
              "#fb9f3a"
             ],
             [
              0.8888888888888888,
              "#fdca26"
             ],
             [
              1,
              "#f0f921"
             ]
            ],
            "type": "histogram2dcontour"
           }
          ],
          "mesh3d": [
           {
            "colorbar": {
             "outlinewidth": 0,
             "ticks": ""
            },
            "type": "mesh3d"
           }
          ],
          "parcoords": [
           {
            "line": {
             "colorbar": {
              "outlinewidth": 0,
              "ticks": ""
             }
            },
            "type": "parcoords"
           }
          ],
          "pie": [
           {
            "automargin": true,
            "type": "pie"
           }
          ],
          "scatter": [
           {
            "fillpattern": {
             "fillmode": "overlay",
             "size": 10,
             "solidity": 0.2
            },
            "type": "scatter"
           }
          ],
          "scatter3d": [
           {
            "line": {
             "colorbar": {
              "outlinewidth": 0,
              "ticks": ""
             }
            },
            "marker": {
             "colorbar": {
              "outlinewidth": 0,
              "ticks": ""
             }
            },
            "type": "scatter3d"
           }
          ],
          "scattercarpet": [
           {
            "marker": {
             "colorbar": {
              "outlinewidth": 0,
              "ticks": ""
             }
            },
            "type": "scattercarpet"
           }
          ],
          "scattergeo": [
           {
            "marker": {
             "colorbar": {
              "outlinewidth": 0,
              "ticks": ""
             }
            },
            "type": "scattergeo"
           }
          ],
          "scattergl": [
           {
            "marker": {
             "colorbar": {
              "outlinewidth": 0,
              "ticks": ""
             }
            },
            "type": "scattergl"
           }
          ],
          "scattermap": [
           {
            "marker": {
             "colorbar": {
              "outlinewidth": 0,
              "ticks": ""
             }
            },
            "type": "scattermap"
           }
          ],
          "scattermapbox": [
           {
            "marker": {
             "colorbar": {
              "outlinewidth": 0,
              "ticks": ""
             }
            },
            "type": "scattermapbox"
           }
          ],
          "scatterpolar": [
           {
            "marker": {
             "colorbar": {
              "outlinewidth": 0,
              "ticks": ""
             }
            },
            "type": "scatterpolar"
           }
          ],
          "scatterpolargl": [
           {
            "marker": {
             "colorbar": {
              "outlinewidth": 0,
              "ticks": ""
             }
            },
            "type": "scatterpolargl"
           }
          ],
          "scatterternary": [
           {
            "marker": {
             "colorbar": {
              "outlinewidth": 0,
              "ticks": ""
             }
            },
            "type": "scatterternary"
           }
          ],
          "surface": [
           {
            "colorbar": {
             "outlinewidth": 0,
             "ticks": ""
            },
            "colorscale": [
             [
              0,
              "#0d0887"
             ],
             [
              0.1111111111111111,
              "#46039f"
             ],
             [
              0.2222222222222222,
              "#7201a8"
             ],
             [
              0.3333333333333333,
              "#9c179e"
             ],
             [
              0.4444444444444444,
              "#bd3786"
             ],
             [
              0.5555555555555556,
              "#d8576b"
             ],
             [
              0.6666666666666666,
              "#ed7953"
             ],
             [
              0.7777777777777778,
              "#fb9f3a"
             ],
             [
              0.8888888888888888,
              "#fdca26"
             ],
             [
              1,
              "#f0f921"
             ]
            ],
            "type": "surface"
           }
          ],
          "table": [
           {
            "cells": {
             "fill": {
              "color": "#EBF0F8"
             },
             "line": {
              "color": "white"
             }
            },
            "header": {
             "fill": {
              "color": "#C8D4E3"
             },
             "line": {
              "color": "white"
             }
            },
            "type": "table"
           }
          ]
         },
         "layout": {
          "annotationdefaults": {
           "arrowcolor": "#2a3f5f",
           "arrowhead": 0,
           "arrowwidth": 1
          },
          "autotypenumbers": "strict",
          "coloraxis": {
           "colorbar": {
            "outlinewidth": 0,
            "ticks": ""
           }
          },
          "colorscale": {
           "diverging": [
            [
             0,
             "#8e0152"
            ],
            [
             0.1,
             "#c51b7d"
            ],
            [
             0.2,
             "#de77ae"
            ],
            [
             0.3,
             "#f1b6da"
            ],
            [
             0.4,
             "#fde0ef"
            ],
            [
             0.5,
             "#f7f7f7"
            ],
            [
             0.6,
             "#e6f5d0"
            ],
            [
             0.7,
             "#b8e186"
            ],
            [
             0.8,
             "#7fbc41"
            ],
            [
             0.9,
             "#4d9221"
            ],
            [
             1,
             "#276419"
            ]
           ],
           "sequential": [
            [
             0,
             "#0d0887"
            ],
            [
             0.1111111111111111,
             "#46039f"
            ],
            [
             0.2222222222222222,
             "#7201a8"
            ],
            [
             0.3333333333333333,
             "#9c179e"
            ],
            [
             0.4444444444444444,
             "#bd3786"
            ],
            [
             0.5555555555555556,
             "#d8576b"
            ],
            [
             0.6666666666666666,
             "#ed7953"
            ],
            [
             0.7777777777777778,
             "#fb9f3a"
            ],
            [
             0.8888888888888888,
             "#fdca26"
            ],
            [
             1,
             "#f0f921"
            ]
           ],
           "sequentialminus": [
            [
             0,
             "#0d0887"
            ],
            [
             0.1111111111111111,
             "#46039f"
            ],
            [
             0.2222222222222222,
             "#7201a8"
            ],
            [
             0.3333333333333333,
             "#9c179e"
            ],
            [
             0.4444444444444444,
             "#bd3786"
            ],
            [
             0.5555555555555556,
             "#d8576b"
            ],
            [
             0.6666666666666666,
             "#ed7953"
            ],
            [
             0.7777777777777778,
             "#fb9f3a"
            ],
            [
             0.8888888888888888,
             "#fdca26"
            ],
            [
             1,
             "#f0f921"
            ]
           ]
          },
          "colorway": [
           "#636efa",
           "#EF553B",
           "#00cc96",
           "#ab63fa",
           "#FFA15A",
           "#19d3f3",
           "#FF6692",
           "#B6E880",
           "#FF97FF",
           "#FECB52"
          ],
          "font": {
           "color": "#2a3f5f"
          },
          "geo": {
           "bgcolor": "white",
           "lakecolor": "white",
           "landcolor": "#E5ECF6",
           "showlakes": true,
           "showland": true,
           "subunitcolor": "white"
          },
          "hoverlabel": {
           "align": "left"
          },
          "hovermode": "closest",
          "mapbox": {
           "style": "light"
          },
          "paper_bgcolor": "white",
          "plot_bgcolor": "#E5ECF6",
          "polar": {
           "angularaxis": {
            "gridcolor": "white",
            "linecolor": "white",
            "ticks": ""
           },
           "bgcolor": "#E5ECF6",
           "radialaxis": {
            "gridcolor": "white",
            "linecolor": "white",
            "ticks": ""
           }
          },
          "scene": {
           "xaxis": {
            "backgroundcolor": "#E5ECF6",
            "gridcolor": "white",
            "gridwidth": 2,
            "linecolor": "white",
            "showbackground": true,
            "ticks": "",
            "zerolinecolor": "white"
           },
           "yaxis": {
            "backgroundcolor": "#E5ECF6",
            "gridcolor": "white",
            "gridwidth": 2,
            "linecolor": "white",
            "showbackground": true,
            "ticks": "",
            "zerolinecolor": "white"
           },
           "zaxis": {
            "backgroundcolor": "#E5ECF6",
            "gridcolor": "white",
            "gridwidth": 2,
            "linecolor": "white",
            "showbackground": true,
            "ticks": "",
            "zerolinecolor": "white"
           }
          },
          "shapedefaults": {
           "line": {
            "color": "#2a3f5f"
           }
          },
          "ternary": {
           "aaxis": {
            "gridcolor": "white",
            "linecolor": "white",
            "ticks": ""
           },
           "baxis": {
            "gridcolor": "white",
            "linecolor": "white",
            "ticks": ""
           },
           "bgcolor": "#E5ECF6",
           "caxis": {
            "gridcolor": "white",
            "linecolor": "white",
            "ticks": ""
           }
          },
          "title": {
           "x": 0.05
          },
          "xaxis": {
           "automargin": true,
           "gridcolor": "white",
           "linecolor": "white",
           "ticks": "",
           "title": {
            "standoff": 15
           },
           "zerolinecolor": "white",
           "zerolinewidth": 2
          },
          "yaxis": {
           "automargin": true,
           "gridcolor": "white",
           "linecolor": "white",
           "ticks": "",
           "title": {
            "standoff": 15
           },
           "zerolinecolor": "white",
           "zerolinewidth": 2
          }
         }
        },
        "title": {
         "text": "Map Matching Debug View"
        }
       }
      }
     },
     "metadata": {},
     "output_type": "display_data"
    }
   ],
   "source": [
    "import plotly.graph_objects as go\n",
    "\n",
    "fig = go.Figure()\n",
    "\n",
    "# 1. Original GPS trace\n",
    "fig.add_trace(go.Scattermap(\n",
    "    lon=[y for x, y in gps_coords],\n",
    "    lat=[x for x, y in gps_coords],\n",
    "    mode=\"markers+lines\",\n",
    "    name=\"Original GPS\",\n",
    "    marker=dict(color=\"blue\", size=6)\n",
    "))\n",
    "\n",
    "# 2. Reference route (GPX)\n",
    "fig.add_trace(go.Scattermap(\n",
    "    lon=[y for x, y in ref_coords],\n",
    "    lat=[x for x, y in ref_coords],\n",
    "    mode=\"lines+markers\",\n",
    "    name=\"Reference Route\",\n",
    "    marker=dict(color=\"green\", size=5),\n",
    "    line=dict(width=2, color=\"green\")\n",
    "))\n",
    "\n",
    "# 3. Matched node sequence (from map matcher)\n",
    "fig.add_trace(go.Scattermap(\n",
    "    lon=[y for x, y in matched_node_coords],\n",
    "    lat=[x for x, y in matched_node_coords],\n",
    "    mode=\"markers+lines\",\n",
    "    name=\"Matched Nodes\",\n",
    "    marker=dict(color=\"orange\", size=6, symbol=\"circle\")\n",
    "))\n",
    "\n",
    "# Create debug lines between GPS input and matched points\n",
    "debug_lines = []\n",
    "for (lat1, lon1), (lat2, lon2) in zip(gps_input, matched_coords):\n",
    "    debug_lines.append(\n",
    "        go.Scattermap(\n",
    "            lon=[lon1, lon2],\n",
    "            lat=[lat1, lat2],\n",
    "            mode='lines',\n",
    "            line=dict(width=1, color='grey'),\n",
    "            showlegend=False\n",
    "        )\n",
    "    )\n",
    "\n",
    "dist_labels = [f\"{int(d)} m\" for d in monotonic_distances]\n",
    "\n",
    "# 4. Interpolated matched GPS points (on edges)\n",
    "fig.add_trace(go.Scattermap(\n",
    "    lon=[y for x, y in matched_coords],\n",
    "    lat=[x for x, y in matched_coords],\n",
    "    mode=\"markers+text\",\n",
    "    name=\"Matched Points on Route\",\n",
    "    marker=dict(color=\"red\", size=4, symbol=\"circle\"),\n",
    "    text=dist_labels,\n",
    "    textposition=\"top right\"\n",
    "))\n",
    "\n",
    "# 5. Add debug lines\n",
    "for line in debug_lines[:50]:\n",
    "    fig.add_trace(line)\n",
    "\n",
    "fig.update_layout(\n",
    "    map_style=\"open-street-map\",\n",
    "    map_zoom=15,\n",
    "    map_center={\"lat\": gps_coords[0][0], \"lon\": gps_coords[0][1]},\n",
    "    margin={\"l\": 0, \"r\": 0, \"t\": 30, \"b\": 0},\n",
    "    title=\"Map Matching Debug View\"\n",
    ")\n",
    "\n",
    "fig.show()"
   ]
  },
  {
   "cell_type": "code",
   "execution_count": null,
   "id": "a1ada322",
   "metadata": {},
   "outputs": [],
   "source": []
  }
 ],
 "metadata": {
  "kernelspec": {
   "display_name": ".venv",
   "language": "python",
   "name": "python3"
  },
  "language_info": {
   "codemirror_mode": {
    "name": "ipython",
    "version": 3
   },
   "file_extension": ".py",
   "mimetype": "text/x-python",
   "name": "python",
   "nbconvert_exporter": "python",
   "pygments_lexer": "ipython3",
   "version": "3.9.6"
  }
 },
 "nbformat": 4,
 "nbformat_minor": 5
}
