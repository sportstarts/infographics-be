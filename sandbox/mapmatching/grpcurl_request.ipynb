{
 "cells": [
  {
   "cell_type": "code",
   "execution_count": 1,
   "id": "de1870de",
   "metadata": {},
   "outputs": [
    {
     "name": "stdout",
     "output_type": "stream",
     "text": [
      "Requirement already satisfied: gpxpy in /Users/mkharytonau/Projects/infographics/.venv/lib/python3.9/site-packages (1.6.2)\n",
      "\u001b[33mWARNING: You are using pip version 21.2.4; however, version 25.2 is available.\n",
      "You should consider upgrading via the '/Users/mkharytonau/Projects/infographics/.venv/bin/python3 -m pip install --upgrade pip' command.\u001b[0m\n"
     ]
    }
   ],
   "source": [
    "!pip install gpxpy"
   ]
  },
  {
   "cell_type": "code",
   "execution_count": 2,
   "id": "0336849d",
   "metadata": {},
   "outputs": [],
   "source": [
    "import json\n",
    "import gpxpy"
   ]
  },
  {
   "cell_type": "code",
   "execution_count": 3,
   "id": "2840c25c",
   "metadata": {},
   "outputs": [],
   "source": [
    "# --- 1. Load reference GPX ---\n",
    "gpx_file_path = \"./testdata/tsna.gpx\"\n",
    "with open(gpx_file_path, 'r') as gpx_file:\n",
    "    gpx = gpxpy.parse(gpx_file)\n",
    "ref_coords = [(pt.latitude, pt.longitude) for trk in gpx.tracks for seg in trk.segments for pt in seg.points]"
   ]
  },
  {
   "cell_type": "code",
   "execution_count": 4,
   "id": "99ca7bcf",
   "metadata": {},
   "outputs": [
    {
     "name": "stdout",
     "output_type": "stream",
     "text": [
      "Filtered valid GPS points: 39 of 274\n",
      "Bad GPS points: [(None, None), (None, None), (None, None), (None, None), (None, None), (None, None), (None, None), (None, None), (None, None), (None, None), (None, None), (None, None), (None, None), (None, None), (None, None), (None, None), (None, None), (None, None), (None, None), (None, None), (None, None), (None, None), (None, None), (None, None), (None, None), (None, None), (None, None), (None, None), (None, None), (None, None), (None, None), (None, None), (None, None), (None, None), (None, None), (None, None), (None, None), (None, None), (None, None), (None, None), (None, None), (None, None), (None, None), (None, None), (None, None), (None, None), (None, None), (None, None), (None, None), (None, None), (None, None), (None, None), (None, None), (None, None), (None, None), (None, None), (None, None), (None, None), (None, None), (None, None), (None, None), (None, None), (None, None), (None, None), (None, None), (None, None), (None, None), (None, None), (None, None), (None, None), (None, None), (None, None), (None, None), (None, None), (None, None), (None, None), (None, None), (None, None), (None, None), (None, None), (None, None), (None, None), (None, None), (None, None), (None, None), (None, None), (None, None), (None, None), (None, None), (None, None), (None, None), (None, None), (None, None), (None, None), (None, None), (None, None), (None, None), (None, None), (None, None), (None, None), (None, None), (None, None), (None, None), (None, None), (None, None), (None, None), (None, None), (None, None), (None, None), (None, None), (None, None), (None, None), (None, None), (None, None), (None, None), (None, None), (None, None), (None, None), (None, None), (None, None), (None, None), (None, None), (None, None), (None, None), (None, None), (None, None), (None, None), (None, None), (None, None), (None, None), (None, None), (None, None), (None, None), (None, None), (None, None), (None, None), (None, None), (None, None), (None, None), (None, None), (None, None), (None, None), (None, None), (None, None), (None, None), (None, None), (None, None), (None, None), (None, None), (None, None), (None, None), (None, None), (None, None), (None, None), (None, None), (None, None), (None, None), (None, None), (None, None), (None, None), (None, None), (None, None), (None, None), (None, None), (None, None), (None, None), (None, None), (None, None), (None, None), (None, None), (None, None), (None, None), (None, None), (None, None), (None, None), (None, None), (None, None), (None, None), (None, None), (None, None), (None, None), (None, None), (None, None), (None, None), (None, None), (None, None), (None, None), (None, None), (None, None), (None, None), (None, None), (None, None), (None, None), (None, None), (None, None), (None, None), (None, None), (None, None), (None, None), (None, None), (None, None), (None, None), (None, None), (None, None), (None, None), (None, None), (None, None), (None, None), (None, None), (None, None), (None, None), (None, None), (None, None), (None, None), (None, None), (None, None), (None, None), (None, None), (None, None), (None, None), (None, None), (None, None), (None, None), (None, None), (None, None), (None, None), (None, None), (None, None), (None, None), (None, None), (None, None), (None, None), (None, None), (None, None), (None, None)]\n"
     ]
    }
   ],
   "source": [
    "# --- 2. Load GPS trace ---\n",
    "with open(\"./testdata/tsna.json\", \"r\") as file:\n",
    "\tdata = json.load(file)\n",
    "\n",
    "gps_coords = [\n",
    "\t(entry[\"latitude\"], entry[\"longitude\"]) \n",
    "\tfor entry in data\n",
    "]\n",
    "\n",
    "def is_valid_coord(lat, lon):\n",
    "    try:\n",
    "        return (\n",
    "            lat is not None and lon is not None and\n",
    "            isinstance(lat, (int, float)) and isinstance(lon, (int, float))\n",
    "        )\n",
    "    except:\n",
    "        return False\n",
    "\n",
    "bad_gps_coords = [\n",
    "    (lat, lon)\n",
    "    for lat, lon in gps_coords\n",
    "    if not is_valid_coord(lat, lon)\n",
    "]\n",
    "filtered_gps_coords = [\n",
    "    (lat, lon)\n",
    "    for lat, lon in gps_coords\n",
    "    if is_valid_coord(lat, lon)\n",
    "]\n",
    "\n",
    "print(f\"Filtered valid GPS points: {len(filtered_gps_coords)} of {len(gps_coords)}\")\n",
    "print(f\"Bad GPS points: {bad_gps_coords}\")"
   ]
  },
  {
   "cell_type": "code",
   "execution_count": 10,
   "id": "5ab026f3",
   "metadata": {},
   "outputs": [],
   "source": [
    "# Convert ref_coords to JSON format\n",
    "ref_coords_json = [{\"latitude\": lat, \"longitude\": lon} for lat, lon in ref_coords]\n",
    "\n",
    "# Convert filtered_gps_coords to JSON format\n",
    "filtered_gps_coords_json = [{\"latitude\": lat, \"longitude\": lon} for lat, lon in filtered_gps_coords]\n",
    "\n",
    "request = {\n",
    "\t\t\"predefined_route\": ref_coords_json,\n",
    "\t\t\"recorded_route\": filtered_gps_coords_json\n",
    "}\n",
    "\n",
    "with open(\"request.json\", \"w\") as outfile:\n",
    "\tjson.dump(request, outfile, indent=2)"
   ]
  },
  {
   "cell_type": "code",
   "execution_count": null,
   "id": "61240c9f",
   "metadata": {},
   "outputs": [],
   "source": []
  }
 ],
 "metadata": {
  "kernelspec": {
   "display_name": ".venv",
   "language": "python",
   "name": "python3"
  },
  "language_info": {
   "codemirror_mode": {
    "name": "ipython",
    "version": 3
   },
   "file_extension": ".py",
   "mimetype": "text/x-python",
   "name": "python",
   "nbconvert_exporter": "python",
   "pygments_lexer": "ipython3",
   "version": "3.9.6"
  }
 },
 "nbformat": 4,
 "nbformat_minor": 5
}
